{
 "cells": [
  {
   "cell_type": "markdown",
   "metadata": {
    "id": "wJQlh7wfjqYm"
   },
   "source": [
    "### 2021 Principles of Human Brain Mapping Lab\n",
    "# Advanced fMRI analysis\n",
    "\n",
    "After `preprocessing` lab, we started `GLM analysis` lab by asking the following questions.\n",
    ">You obtained fMRI data from experiments with experimental design designed for testing a specific **psychological hypothesis** you are interested in. How do you actually test the psychological hypothesis with the fMRI data you obtained?\n",
    "\n",
    ">If your psychological hypothesis and experimental design induce the **activation** from a single voxel, you can use a GLM to create a model that simulates the predicted BOLD response of a single voxel. After that, you can test your hypothesis by statistically comparing the signal predicted by the model and the actual BOLD signal you obtained.\n",
    "\n",
    "Over the past few weeks, you have learned to analyze the BOLD signal of a single voxel, but not all kinds of cognitive functions in the brain are observed and studied through single voxel activation. As mentioned above, you can study hypotheses that cause greater activation than baseline at the single voxel level when using the GLM analysis. However, you can also examine cognitive functions using **activation patterns across multiple voxels** or temporal synchronies of activity called functional connectivity.\n",
    "\n",
    "In this lab, you will learn about **Multi-Voxel Pattern Analysis (MVPA)** and **Representational Similarity Analysis (RSA)**, two analysis methods to examine activation patterns across multiple voxels."
   ]
  },
  {
   "cell_type": "markdown",
   "source": [
    "## Getting started\n",
    "### Download the modules will be using for this tutorial"
   ],
   "metadata": {
    "collapsed": false,
    "pycharm": {
     "name": "#%% md\n"
    }
   }
  },
  {
   "cell_type": "code",
   "execution_count": 4,
   "outputs": [
    {
     "name": "stdout",
     "output_type": "stream",
     "text": [
      "Collecting pandas\r\n",
      "  Downloading pandas-1.4.3-cp310-cp310-macosx_10_9_x86_64.whl (11.5 MB)\r\n",
      "\u001B[K     |████████████████████████████████| 11.5 MB 10.1 MB/s eta 0:00:01\r\n",
      "\u001B[?25hRequirement already satisfied: numpy>=1.21.0 in /Users/jwpark/opt/anaconda3/envs/FilmMemory/lib/python3.10/site-packages (from pandas) (1.22.3)\r\n",
      "Requirement already satisfied: python-dateutil>=2.8.1 in /Users/jwpark/opt/anaconda3/envs/FilmMemory/lib/python3.10/site-packages (from pandas) (2.8.2)\r\n",
      "Collecting pytz>=2020.1\r\n",
      "  Using cached pytz-2022.1-py2.py3-none-any.whl (503 kB)\r\n",
      "Requirement already satisfied: six>=1.5 in /Users/jwpark/opt/anaconda3/envs/FilmMemory/lib/python3.10/site-packages (from python-dateutil>=2.8.1->pandas) (1.16.0)\r\n",
      "Installing collected packages: pytz, pandas\r\n",
      "Successfully installed pandas-1.4.3 pytz-2022.1\r\n",
      "Collecting nilearn\r\n",
      "  Downloading nilearn-0.9.1-py3-none-any.whl (9.6 MB)\r\n",
      "\u001B[K     |████████████████████████████████| 9.6 MB 5.0 MB/s eta 0:00:01\r\n",
      "\u001B[?25hCollecting scipy>=1.5\r\n",
      "  Downloading scipy-1.9.0-cp310-cp310-macosx_12_0_universal2.macosx_10_9_x86_64.whl (58.4 MB)\r\n",
      "\u001B[K     |████████████████████████████████| 58.4 MB 3.4 kB/s  eta 0:00:01\r\n",
      "\u001B[?25hCollecting requests>=2\r\n",
      "  Downloading requests-2.28.1-py3-none-any.whl (62 kB)\r\n",
      "\u001B[K     |████████████████████████████████| 62 kB 5.6 MB/s  eta 0:00:01\r\n",
      "\u001B[?25hRequirement already satisfied: pandas>=1.0 in /Users/jwpark/opt/anaconda3/envs/FilmMemory/lib/python3.10/site-packages (from nilearn) (1.4.3)\r\n",
      "Requirement already satisfied: numpy>=1.18 in /Users/jwpark/opt/anaconda3/envs/FilmMemory/lib/python3.10/site-packages (from nilearn) (1.22.3)\r\n",
      "Collecting scikit-learn>=0.22\r\n",
      "  Downloading scikit_learn-1.1.2-cp310-cp310-macosx_10_9_x86_64.whl (8.7 MB)\r\n",
      "\u001B[K     |████████████████████████████████| 8.7 MB 21.4 MB/s eta 0:00:01\r\n",
      "\u001B[?25hCollecting joblib>=0.15\r\n",
      "  Using cached joblib-1.1.0-py2.py3-none-any.whl (306 kB)\r\n",
      "Collecting lxml\r\n",
      "  Downloading lxml-4.9.1.tar.gz (3.4 MB)\r\n",
      "\u001B[K     |████████████████████████████████| 3.4 MB 10.3 MB/s eta 0:00:01\r\n",
      "\u001B[?25hRequirement already satisfied: nibabel>=3.0.0 in /Users/jwpark/opt/anaconda3/envs/FilmMemory/lib/python3.10/site-packages (from nilearn) (3.2.2)\r\n",
      "Requirement already satisfied: setuptools in /Users/jwpark/opt/anaconda3/envs/FilmMemory/lib/python3.10/site-packages (from nibabel>=3.0.0->nilearn) (58.0.4)\r\n",
      "Requirement already satisfied: packaging>=14.3 in /Users/jwpark/opt/anaconda3/envs/FilmMemory/lib/python3.10/site-packages (from nibabel>=3.0.0->nilearn) (21.3)\r\n",
      "Requirement already satisfied: pyparsing!=3.0.5,>=2.0.2 in /Users/jwpark/opt/anaconda3/envs/FilmMemory/lib/python3.10/site-packages (from packaging>=14.3->nibabel>=3.0.0->nilearn) (3.0.7)\r\n",
      "Requirement already satisfied: python-dateutil>=2.8.1 in /Users/jwpark/opt/anaconda3/envs/FilmMemory/lib/python3.10/site-packages (from pandas>=1.0->nilearn) (2.8.2)\r\n",
      "Requirement already satisfied: pytz>=2020.1 in /Users/jwpark/opt/anaconda3/envs/FilmMemory/lib/python3.10/site-packages (from pandas>=1.0->nilearn) (2022.1)\r\n",
      "Requirement already satisfied: six>=1.5 in /Users/jwpark/opt/anaconda3/envs/FilmMemory/lib/python3.10/site-packages (from python-dateutil>=2.8.1->pandas>=1.0->nilearn) (1.16.0)\r\n",
      "Collecting idna<4,>=2.5\r\n",
      "  Using cached idna-3.3-py3-none-any.whl (61 kB)\r\n",
      "Collecting urllib3<1.27,>=1.21.1\r\n",
      "  Downloading urllib3-1.26.11-py2.py3-none-any.whl (139 kB)\r\n",
      "\u001B[K     |████████████████████████████████| 139 kB 23.7 MB/s eta 0:00:01\r\n",
      "\u001B[?25hCollecting charset-normalizer<3,>=2\r\n",
      "  Downloading charset_normalizer-2.1.0-py3-none-any.whl (39 kB)\r\n",
      "Requirement already satisfied: certifi>=2017.4.17 in /Users/jwpark/opt/anaconda3/envs/FilmMemory/lib/python3.10/site-packages (from requests>=2->nilearn) (2020.6.20)\r\n",
      "Collecting threadpoolctl>=2.0.0\r\n",
      "  Downloading threadpoolctl-3.1.0-py3-none-any.whl (14 kB)\r\n",
      "Building wheels for collected packages: lxml\r\n",
      "  Building wheel for lxml (setup.py) ... \u001B[?25ldone\r\n",
      "\u001B[?25h  Created wheel for lxml: filename=lxml-4.9.1-cp310-cp310-macosx_10_9_x86_64.whl size=1610971 sha256=788eb240352690cb1d734a7f082b495ec370552ec4fdd6a113f80fb86dc076e9\r\n",
      "  Stored in directory: /Users/jwpark/Library/Caches/pip/wheels/a4/ec/7b/8acde6da24b5aabeee049213d5bec12d1e9214d3cae276387b\r\n",
      "Successfully built lxml\r\n",
      "Installing collected packages: urllib3, threadpoolctl, scipy, joblib, idna, charset-normalizer, scikit-learn, requests, lxml, nilearn\r\n",
      "Successfully installed charset-normalizer-2.1.0 idna-3.3 joblib-1.1.0 lxml-4.9.1 nilearn-0.9.1 requests-2.28.1 scikit-learn-1.1.2 scipy-1.9.0 threadpoolctl-3.1.0 urllib3-1.26.11\r\n"
     ]
    }
   ],
   "source": [
    "!pip install numpy          # NumPy for scientific computing\n",
    "!pip install matplotlib     # Matplotlib for data visualization\n",
    "!pip install nibabel        # Nibabel for neuroimaging data I/O\n",
    "!pip install nilearn        # Nilearn for neuroimaging data visualization"
   ],
   "metadata": {
    "collapsed": false,
    "pycharm": {
     "name": "#%%\n"
    }
   }
  },
  {
   "cell_type": "markdown",
   "source": [
    "### Check your data structure"
   ],
   "metadata": {
    "collapsed": false,
    "pycharm": {
     "name": "#%% md\n"
    }
   }
  },
  {
   "cell_type": "code",
   "execution_count": 36,
   "outputs": [
    {
     "name": "stdout",
     "output_type": "stream",
     "text": [
      "Data validation:  [True, True, True, True, True, True, True, True, True, True]\n",
      "\u001B[01;34m.\u001B[00m\r\n",
      "├── \u001B[01;34mdata\u001B[00m\r\n",
      "│   ├── Brainnetome_atlas.nii\r\n",
      "│   ├── README.txt\r\n",
      "│   ├── \u001B[01;31mmask_image.nii.gz\u001B[00m\r\n",
      "│   ├── \u001B[01;34msub-01\u001B[00m\r\n",
      "│   │   ├── \u001B[01;31msub-01_task-FOSS_run-1_preprocessed.nii.gz\u001B[00m\r\n",
      "│   │   └── \u001B[01;31msub-01_task-FOSS_run-2_preprocessed.nii.gz\u001B[00m\r\n",
      "│   ├── \u001B[01;34msub-02\u001B[00m\r\n",
      "│   │   ├── \u001B[01;31msub-02_task-FOSS_run-1_preprocessed.nii.gz\u001B[00m\r\n",
      "│   │   └── \u001B[01;31msub-02_task-FOSS_run-2_preprocessed.nii.gz\u001B[00m\r\n",
      "│   ├── \u001B[01;34msub-03\u001B[00m\r\n",
      "│   │   ├── \u001B[01;31msub-03_task-FOSS_run-1_preprocessed.nii.gz\u001B[00m\r\n",
      "│   │   └── \u001B[01;31msub-03_task-FOSS_run-2_preprocessed.nii.gz\u001B[00m\r\n",
      "│   └── \u001B[01;34msub-04\u001B[00m\r\n",
      "│       ├── \u001B[01;31msub-04_task-FOSS_run-1_preprocessed.nii.gz\u001B[00m\r\n",
      "│       └── \u001B[01;31msub-04_task-FOSS_run-2_preprocessed.nii.gz\u001B[00m\r\n",
      "└── tutorial.ipynb\r\n",
      "\r\n",
      "5 directories, 12 files\r\n"
     ]
    }
   ],
   "source": [
    "import os\n",
    "subject_id = 'sub-01'\n",
    "task = 'FOSS'\n",
    "file_exists = []\n",
    "for run in ['1', '2']:\n",
    "    file_exists.append(os.path.exists('data/'+\n",
    "                       subject_id+'/'+subject_id+\n",
    "                       '_task-'+task+\n",
    "                       '_run-'+run+'_preprocessed.nii.gz'))\n",
    "file_exists.append(os.path.exists(\"data/mask_image.nii.gz\"))\n",
    "file_exists.append(os.path.exists(\"data/Brainnetome_atlas.nii\"))\n",
    "print(\"Data validation: \", file_exists)\n",
    "!tree"
   ],
   "metadata": {
    "collapsed": false,
    "pycharm": {
     "name": "#%%\n"
    }
   }
  },
  {
   "cell_type": "markdown",
   "metadata": {
    "id": "qrurcRNVTc0n"
   },
   "source": [
    "## Why and when is a multivariate pattern useful? \n",
    "\n",
    "Suppose that there are fMRI data measured from two voxels in each of the two experimental conditions. If the experimental conditions you are interested in induce larger activation in a particular voxel than other conditions do, you can expect the results shown in the figure below.\n",
    "\n",
    "### Simulation 1: Univariate analysis"
   ]
  },
  {
   "cell_type": "code",
   "execution_count": null,
   "metadata": {
    "id": "YKRBMLdMTc0n",
    "outputId": "d21a3b61-49c8-4039-8b35-407041fee59f",
    "pycharm": {
     "is_executing": true
    }
   },
   "outputs": [],
   "source": [
    "import numpy as np\n",
    "import matplotlib.pyplot as plt\n",
    "\n",
    "def scatter_hist(x, y, ax, ax_histx, ax_histy, label):\n",
    "    # from https://matplotlib.org/stable/gallery/lines_bars_and_markers/scatter_hist.html\n",
    "    ax_histx.tick_params(axis=\"x\", labelbottom=False)\n",
    "    ax_histy.tick_params(axis=\"y\", labelleft=False)\n",
    "    \n",
    "    ax.scatter(x, y, s=40, label=label)\n",
    "    ax.set_xticks([])\n",
    "    ax.set_yticks([])\n",
    "    ax.set_xlabel('Activity in voxel 1')\n",
    "    ax.set_ylabel('Activity in voxel 2')\n",
    "    binwidth = 0.25\n",
    "    xymax = max(np.max(np.abs(x)), np.max(np.abs(y)))\n",
    "    lim = (int(xymax/binwidth) + 1) * binwidth\n",
    "\n",
    "    bins = np.arange(-lim, lim + binwidth, binwidth)\n",
    "    ax_histx.hist(x, bins=bins)\n",
    "    ax_histy.hist(y, bins=bins, orientation='horizontal')\n",
    "    return ax\n",
    "    \n",
    "left, width = 0.1, 0.65\n",
    "bottom, height = 0.1, 0.65\n",
    "spacing = 0.0\n",
    "\n",
    "rect_scatter = [left, bottom, width, height]\n",
    "rect_histx = [left, bottom + height + spacing, width, 0.2]\n",
    "rect_histy = [left + width + spacing, bottom, 0.2, height]\n",
    "\n",
    "np.random.seed(0)\n",
    "fig = plt.figure(figsize=(4, 4), dpi=150)\n",
    "\n",
    "ax = fig.add_axes(rect_scatter)\n",
    "ax_histx = fig.add_axes(rect_histx, sharex=ax)\n",
    "ax_histy = fig.add_axes(rect_histy, sharey=ax)\n",
    "\n",
    "# condition A (Red)\n",
    "num_datapoints = 40\n",
    "voxel_1_data = np.random.normal(loc=-1.0, scale=0.5, size=30)\n",
    "voxel_2_data = np.random.normal(loc=1.0, scale=0.5, size=30)\n",
    "\n",
    "scatter_hist(voxel_1_data, voxel_2_data, ax, ax_histx, ax_histy, label='condition A')\n",
    "\n",
    "voxel_1_data = np.random.normal(loc=1.0, scale=0.5, size=30)\n",
    "voxel_2_data = np.random.normal(loc=-1.0, scale=0.5, size=30)\n",
    "\n",
    "scatter_hist(voxel_1_data, voxel_2_data, ax, ax_histx, ax_histy, label='condition B')\n",
    "ax.legend(loc='lower left')\n",
    "plt.show()"
   ]
  },
  {
   "cell_type": "markdown",
   "metadata": {
    "id": "qV0Kik7HTc0p"
   },
   "source": [
    "As can be seen from the simulation above, you can separate the two experimental conditions by the difference in the activity of a single voxel.\n",
    "\n",
    "On the other hand, what about the following situation?\n",
    "### Similation 2: Multivariate analysis"
   ]
  },
  {
   "cell_type": "code",
   "execution_count": null,
   "metadata": {
    "id": "VuvwZ23OTc0q",
    "outputId": "ea4d54b5-8ad3-4d80-f0e2-358713a08c17",
    "pycharm": {
     "is_executing": true
    }
   },
   "outputs": [],
   "source": [
    "np.random.seed(0)\n",
    "fig = plt.figure(figsize=(4,4), dpi=150)\n",
    "\n",
    "ax = fig.add_axes(rect_scatter)\n",
    "ax_histx = fig.add_axes(rect_histx, sharex=ax)\n",
    "ax_histy = fig.add_axes(rect_histy, sharey=ax)\n",
    "\n",
    "# condition A (Red)\n",
    "num_datapoints = 40\n",
    "voxel_1_data = np.random.normal(loc=-0.4, scale=1.0, size=30)\n",
    "voxel_2_data = voxel_1_data + np.random.normal(loc=-0.4, scale=0.5, size=30)\n",
    "\n",
    "scatter_hist(voxel_1_data, voxel_2_data, ax, ax_histx, ax_histy, label='condition A')\n",
    "\n",
    "voxel_1_data = np.random.normal(loc=-0.4, scale=1.0, size=30)\n",
    "voxel_2_data = voxel_1_data + np.random.normal(loc=0.4, scale=0.5, size=30)\n",
    "\n",
    "scatter_hist(voxel_1_data, voxel_2_data, ax, ax_histx, ax_histy, label='condition B')\n",
    "ax.legend(loc='lower left')\n",
    "plt.show()"
   ]
  },
  {
   "cell_type": "markdown",
   "metadata": {
    "id": "CAGLHD6sTc0q"
   },
   "source": [
    "The results of the second simulation show no significant difference in activity between the two conditions in any voxel. But as in the scatter plot, you can separate the two conditions by comparing activity of the two voxels together. In this simulation, the condition A evokes larger activity in voxel 1 than in voxel 2.\n",
    "\n",
    "The Multivariate data analysis is needed if your psychological hypothesis and experimental design is involved in the representation similar to the second simulation. "
   ]
  },
  {
   "cell_type": "markdown",
   "metadata": {
    "id": "eJSai1kkufT3"
   },
   "source": [
    "## MVPA (Multi-Voxel Pattern Analysis)\n",
    "MVPA or multi-voxel pattern analysis is an analysis method that classifies activity patterns across multiple voxels into specific labels, such as experimental conditions. In machine learning, it is known as decoding or classification.\n",
    "\n",
    "MVPA consists of training and testing steps, just as other machine learning methods do. First, in the training part, you need to train a classifier that predicts a specific label from the activity pattern of the voxels. Susequently, in the test part, you can check the accurracy of classification performance using the brain data (e.g., activity patterns) that was not used for training.\n",
    "\n",
    "What does it mean if the classifier can successfully predict certain labels, such as experimental conditions, from brain data? I recommend you to think it over."
   ]
  },
  {
   "cell_type": "markdown",
   "metadata": {
    "id": "vVQ-sUWnufT6"
   },
   "source": [
    "### Data extraction\n",
    "For the analysis, we will use each trial of the FOSS experiment as input data. We create a classification model that predicts the experimental condition (e.g., Face, Objects, Scene, or Scrambled object) using the brain data and check the classification accuracy."
   ]
  },
  {
   "cell_type": "code",
   "execution_count": null,
   "metadata": {
    "id": "x3M5Cnf5Tc0s",
    "outputId": "b6f322a7-e371-4754-e2e9-130fa7bf7bd3",
    "pycharm": {
     "is_executing": true
    }
   },
   "outputs": [],
   "source": [
    "FOSS_TR = 2\n",
    "FOSS_num_TRs = 147\n",
    "FOSS_num_runs = 2\n",
    "FOSS_stimulus_duration = 14\n",
    "FOSS_1_stimulus_order = ['x', 'F', 'O', 'S', 'P', \n",
    "                         'x', 'O', 'P', 'F', 'S', \n",
    "                         'x', 'S', 'P', 'F', 'O', \n",
    "                         'x', 'P', 'S', 'O', 'F', \n",
    "                         'x']\n",
    "FOSS_2_stimulus_order = ['x', 'P', 'S', 'O', 'F', \n",
    "                         'x', 'S', 'P', 'F', 'O', \n",
    "                         'x', 'O', 'P', 'F', 'S',\n",
    "                         'x', 'F', 'O', 'S', 'P', \n",
    "                         'x']\n",
    "FOSS_stimulus_order = np.repeat(FOSS_1_stimulus_order + FOSS_2_stimulus_order, 7)\n",
    "FOSS_stimulus_matrix = np.zeros((5, 21*2*7))\n",
    "for i, stimulus in enumerate(FOSS_stimulus_order):\n",
    "    if stimulus=='x':\n",
    "        FOSS_stimulus_matrix[0,i] = 1\n",
    "    elif stimulus=='F':\n",
    "        FOSS_stimulus_matrix[1,i] = 1\n",
    "    elif stimulus=='O':\n",
    "        FOSS_stimulus_matrix[2,i] = 1\n",
    "    elif stimulus=='P':\n",
    "        FOSS_stimulus_matrix[3,i] = 1\n",
    "    elif stimulus=='S':\n",
    "        FOSS_stimulus_matrix[4,i] = 1\n",
    "\n",
    "plt.figure(figsize=(24,4), dpi=150)\n",
    "plt.imshow(FOSS_stimulus_matrix, aspect='auto', cmap='Greys_r')\n",
    "plt.yticks(np.arange(5), ['Fixation', 'Face', 'Object', 'Place', 'Scrambled'])\n",
    "plt.xticks(np.linspace(0,294-7,21*2), [str(i) for i in np.linspace(0,294-7,21*2, dtype=np.int)])\n",
    "plt.show()\n"
   ]
  },
  {
   "cell_type": "markdown",
   "metadata": {
    "id": "cIto6KNbTc0s"
   },
   "source": [
    "### Multi-voxel patterns in ventral temporal cortex\n",
    "Let's extract the mask for the ventral temporal cortex from the brainnetome atlas and see what actviity patterns in the ventral temporal cortex represent each condition of the FOSS data."
   ]
  },
  {
   "cell_type": "code",
   "execution_count": null,
   "metadata": {
    "id": "Wsw0ZM1NTc0s",
    "outputId": "bae546e8-deb0-4a6a-eb03-b3a563f94e6e",
    "pycharm": {
     "is_executing": true
    }
   },
   "outputs": [],
   "source": [
    "import warnings\n",
    "warnings.filterwarnings(\"ignore\")\n",
    "\n",
    "import numpy as np    \n",
    "import matplotlib.pyplot as plt\n",
    "import nibabel as nib\n",
    "\n",
    "from nilearn import plotting\n",
    "from nilearn import image\n",
    "\n",
    "bn_atlas = nib.load('data/Brainnetome_atlas.nii')\n",
    "bn_atlas_data = bn_atlas.get_fdata()\n",
    "\n",
    "VT_mask = np.zeros(bn_atlas_data.shape)\n",
    "for roi in range(89, 121):\n",
    "    if roi % 2 ==0:\n",
    "        VT_mask[bn_atlas_data==roi] = 1\n",
    "    \n",
    "VT_mask = nib.Nifti1Image(VT_mask, bn_atlas.affine)\n",
    "plotting.view_img(VT_mask, symmetric_cmap=False,\n",
    "                  resampling_interpolation='nearest',\n",
    "                  cut_coords=(34, -36, -16), draw_cross=True)"
   ]
  },
  {
   "cell_type": "code",
   "execution_count": null,
   "metadata": {
    "id": "4QqT15kFTc0t",
    "pycharm": {
     "is_executing": true
    }
   },
   "outputs": [],
   "source": [
    "subject_id = 'sub-01'\n",
    "task = 'FOSS'\n",
    "FOSS_data_VT_voxels = np.empty((0, np.sum(VT_mask.get_fdata()==1)))\n",
    "for run in ['1', '2']:\n",
    "    FOSS_data = nib.load('data/'+\n",
    "                         subject_id+'/'+subject_id+\n",
    "                         '_task-'+task+\n",
    "                         '_run-'+run+\n",
    "                         '_preprocessed.nii.gz')\n",
    "\n",
    "    FOSS_data_VT_voxels = np.concatenate([FOSS_data_VT_voxels,\n",
    "                                          FOSS_data.get_fdata()[VT_mask.get_fdata()==1,:].T], axis=0)\n",
    "print(FOSS_data_VT_voxels.shape) # should be (#timepoints, #voxels)"
   ]
  },
  {
   "cell_type": "markdown",
   "metadata": {
    "id": "h1yJZplKTc0t"
   },
   "source": [
    "### Multi-voxel patterns: Face condition"
   ]
  },
  {
   "cell_type": "code",
   "execution_count": null,
   "metadata": {
    "id": "dVziqTe_Tc0u",
    "outputId": "a8ac92cd-2a42-4b0e-f130-65df16fe4671",
    "pycharm": {
     "is_executing": true
    }
   },
   "outputs": [],
   "source": [
    "def get_trials(ROI_data, onset, duration):\n",
    "    offset = 3\n",
    "    data = ROI_data[onset+offset:onset+offset+duration,:]\n",
    "    return data.mean(axis=0)\n",
    "\n",
    "Face_trial = get_trials(FOSS_data_VT_voxels, 7, 7)\n",
    "print(Face_trial.shape)\n",
    "\n",
    "Face_pattern = np.zeros(bn_atlas_data.shape)\n",
    "Face_pattern[VT_mask.get_fdata()==1] = Face_trial\n",
    "Face_pattern = nib.Nifti1Image(Face_pattern, bn_atlas.affine)\n",
    "plotting.view_img(Face_pattern, cmap='jet', cut_coords=(34, -36, -16))"
   ]
  },
  {
   "cell_type": "markdown",
   "metadata": {
    "id": "Lkma86oATc0u"
   },
   "source": [
    "### Multi-voxel patterns: Object condition"
   ]
  },
  {
   "cell_type": "code",
   "execution_count": null,
   "metadata": {
    "id": "H0U3h8_bTc0u",
    "outputId": "9d502e7e-0726-4d3a-b532-d83e517c72f7",
    "pycharm": {
     "is_executing": true
    }
   },
   "outputs": [],
   "source": [
    "Object_trial = get_trials(FOSS_data_VT_voxels, 14, 7)\n",
    "print(Object_trial.shape)\n",
    "\n",
    "Object_pattern = np.zeros(bn_atlas_data.shape)\n",
    "Object_pattern[VT_mask.get_fdata()==1] = Object_trial\n",
    "Object_pattern = nib.Nifti1Image(Object_pattern, bn_atlas.affine)\n",
    "plotting.view_img(Object_pattern, cmap='jet', cut_coords=(34, -36, -16))"
   ]
  },
  {
   "cell_type": "code",
   "execution_count": null,
   "metadata": {
    "pycharm": {
     "is_executing": true
    }
   },
   "outputs": [],
   "source": [
    "Place_trial = get_trials(FOSS_data_VT_voxels, 28, 7)\n",
    "print(Object_trial.shape)\n",
    "\n",
    "Place_pattern = np.zeros(bn_atlas_data.shape)\n",
    "Place_pattern[VT_mask.get_fdata()==1] = Place_trial\n",
    "Place_pattern = nib.Nifti1Image(Place_pattern, bn_atlas.affine)\n",
    "plotting.view_img(Place_pattern, cmap='jet', cut_coords=(34, -36, -16))"
   ]
  },
  {
   "cell_type": "code",
   "execution_count": 26,
   "outputs": [],
   "source": [
    "Face_trials = []\n",
    "Object_trials = []\n",
    "Place_trials = []\n",
    "Scrambled_trials = []\n",
    "for t, trial in enumerate(FOSS_1_stimulus_order + FOSS_2_stimulus_order):\n",
    "    if trial=='F':\n",
    "        Face_trials.append(get_trials(FOSS_data_VT_voxels, t*7, 7))\n",
    "    elif trial=='O':\n",
    "        Object_trials.append(get_trials(FOSS_data_VT_voxels, t*7, 7))\n",
    "    elif trial=='P':\n",
    "        Place_trials.append(get_trials(FOSS_data_VT_voxels, t*7, 7))\n",
    "    elif trial=='S':\n",
    "        Scrambled_trials.append(get_trials(FOSS_data_VT_voxels, t*7, 7))"
   ],
   "metadata": {
    "collapsed": false,
    "pycharm": {
     "name": "#%%\n"
    }
   }
  },
  {
   "cell_type": "markdown",
   "metadata": {
    "id": "PsvQGdmJTc0v"
   },
   "source": [
    "Writing a code like this is really inefficient, but I wrote the code simply to make it easier for you to define and extract the trial you want from the `MOVIE` data.\n",
    "\n",
    "You can extract the data you want to use for your analysis by using the `get_trials()` function and the `onset` and `duration` of the desired trial."
   ]
  },
  {
   "cell_type": "markdown",
   "metadata": {
    "id": "BnNAvvHVTc0w"
   },
   "source": [
    "### Training the model \n",
    "In the data analysis using machine learning methods, such as MVPA, data must be divided into independent training and test dataset. There are many ways to divide the data, but 10-fold cross-validation was used here.\n",
    "\n",
    "In this lab, a linear support vector machine (SVM) is used as a classification algorithm. To calculate the performance of the model, you can calculate the classification accuracy of the training and test dataset and plot a confusion matrix."
   ]
  },
  {
   "cell_type": "code",
   "execution_count": null,
   "metadata": {
    "id": "c4YPrMTJTc0w",
    "outputId": "06b55571-abf2-4232-aa82-cd80b7c10bf8",
    "pycharm": {
     "is_executing": true
    }
   },
   "outputs": [],
   "source": [
    "from sklearn.svm import LinearSVC             \n",
    "from sklearn.metrics import confusion_matrix \n",
    "from sklearn.model_selection import KFold\n",
    "\n",
    "np.random.seed(0)\n",
    "\n",
    "X = np.vstack([Face_trials, \n",
    "               Object_trials, \n",
    "               Place_trials,\n",
    "               Scrambled_trials])\n",
    "\n",
    "y = np.repeat(['F', 'O', 'P', 'S'], 8)\n",
    "\n",
    "KF_10 = KFold(n_splits=10, shuffle=True)\n",
    "\n",
    "train_accuracy = []\n",
    "test_accuracy = []\n",
    "confusion_mat = []\n",
    "\n",
    "for train_index, test_index in KF_10.split(X):\n",
    "    X_train, X_test = X[train_index], X[test_index]\n",
    "    y_train, y_test = y[train_index], y[test_index]\n",
    "\n",
    "    # Step 2: Build linear SVM model\n",
    "    SVM_model = LinearSVC()\n",
    "\n",
    "    # Step 3: Training SVM with training dataset\n",
    "    SVM_model.fit(X_train, y_train)\n",
    "\n",
    "    # Step 4: Classification accuracy for training dataset \n",
    "    train_accuracy.append(SVM_model.score(X_train, y_train))\n",
    "\n",
    "    # Step 5: Classification accuracy for test dataset \n",
    "    test_accuracy.append(SVM_model.score(X_test, y_test))\n",
    "\n",
    "    # Step 6: confusion_matrix\n",
    "    confusion_mat.append(confusion_matrix(y_test, SVM_model.predict(X_test), labels=['F','O','P','S']))\n",
    "        \n",
    "print('Average classification accuracy for train set: ', np.mean(train_accuracy))\n",
    "print('Average classification accuracy for test set: ', np.mean(test_accuracy))\n",
    "\n",
    "\n",
    "plt.figure(figsize=(3,3), dpi=150)\n",
    "plt.imshow(np.sum(confusion_mat, axis=0), cmap='Blues')\n",
    "plt.xticks(np.arange(4), labels=['Face','Object','Place','Scrambled'], rotation=45)\n",
    "plt.yticks(np.arange(4), labels=['Face','Object','Place','Scrambled'])\n",
    "plt.title('MVPA: Confusion matrix')\n",
    "plt.xlabel('Predicted label')\n",
    "plt.ylabel('True label') # y label\n",
    "for i in range(4):\n",
    "    for j in range(4):\n",
    "        plt.text(j,i, np.sum(confusion_mat, axis=0)[i,j], va='center', ha='center')\n",
    "plt.show()"
   ]
  },
  {
   "cell_type": "code",
   "execution_count": null,
   "metadata": {
    "pycharm": {
     "is_executing": true
    }
   },
   "outputs": [],
   "source": [
    "weight_map = np.zeros(bn_atlas_data.shape)\n",
    "weight_map[VT_mask.get_fdata()==1] = SVM_model.coef_[2,:]\n",
    "weight_map = nib.Nifti1Image(weight_map, bn_atlas.affine)\n",
    "plotting.view_img(weight_map, cmap='jet', cut_coords=(34, -36, -16), draw_cross=False)"
   ]
  },
  {
   "cell_type": "markdown",
   "metadata": {
    "id": "OaIJTN3jTc0w"
   },
   "source": [
    "The accuracy of the classification model predicting the experimental conditions from the FOSS data was higher than the chance level. Again, think about what these results mean in terms of cognitive processes that might be involved here."
   ]
  },
  {
   "cell_type": "markdown",
   "metadata": {
    "id": "BlcWr2kRTc0x"
   },
   "source": [
    "## RSA (Representational Similarity Analysis)\n",
    "Unlike MVPA, RSA is not an analysis method using machine learning. However, it is an analysis method that directly calculates the similarity between the brain patterns for different experimental conditions and compares it with the hypothetical (model) similarity (This is called meta-correlation.).\n",
    "\n",
    "You can create various model similarity matrices for the FOSS data. For example, assuming that each experimental condition is independent of each other, a similarity matrix with only diagonal components can be hypothesized."
   ]
  },
  {
   "cell_type": "code",
   "execution_count": 29,
   "metadata": {
    "id": "EN8lWZjcTc0x",
    "outputId": "c34beebd-2af2-41ee-a346-bb13aa414906"
   },
   "outputs": [
    {
     "data": {
      "text/plain": "<Figure size 1500x450 with 3 Axes>",
      "image/png": "[encoded data removed]"
     },
     "metadata": {
      "needs_background": "light"
     },
     "output_type": "display_data"
    }
   ],
   "source": [
    "hypothetical_similarity = np.zeros((4,4))\n",
    "np.fill_diagonal(hypothetical_similarity, 1)\n",
    "\n",
    "plt.figure(figsize=(10,3), dpi=150)\n",
    "plt.subplot(131)\n",
    "plt.title('Model matrix 1')\n",
    "plt.imshow(hypothetical_similarity)\n",
    "plt.xticks(np.arange(4), ['Face', 'Object', 'Place', 'Scrambled'], fontsize=9)\n",
    "plt.yticks(np.arange(4), ['Face', 'Object', 'Place', 'Scrambled'], rotation=270, fontsize=9, va='center')\n",
    "\n",
    "plt.subplot(132)\n",
    "plt.title('Model matrix 2')\n",
    "hypothetical_similarity[0,1] = 1\n",
    "hypothetical_similarity[1,0] = 1\n",
    "plt.imshow(hypothetical_similarity)\n",
    "plt.xticks(np.arange(4), ['Face', 'Object', 'Place', 'Scrambled'], fontsize=9)\n",
    "plt.yticks(np.arange(4), ['Face', 'Object', 'Place', 'Scrambled'], rotation=270, fontsize=9, va='center')\n",
    "\n",
    "plt.subplot(133)\n",
    "plt.title('Model matrix 3')\n",
    "hypothetical_similarity[2,3] = 1\n",
    "hypothetical_similarity[3,2] = 1\n",
    "plt.imshow(hypothetical_similarity)\n",
    "plt.xticks(np.arange(4), ['Face', 'Object', 'Place', 'Scrambled'], fontsize=9)\n",
    "plt.yticks(np.arange(4), ['Face', 'Object', 'Place', 'Scrambled'], rotation=270, fontsize=9, va='center')\n",
    "\n",
    "plt.subplots_adjust(wspace=0.3)"
   ]
  },
  {
   "cell_type": "markdown",
   "metadata": {
    "id": "IC7SAk6ETc0x"
   },
   "source": [
    "The multi-voxel pattern data can be thought of as a vector present in the voxel space. And the similarity between vectors can be calculated by different similarity measures such as cosine similarity, euclidean distance, etc. In this lab, we will use cosine similarity."
   ]
  },
  {
   "cell_type": "code",
   "execution_count": 30,
   "metadata": {
    "id": "PISpTXDaTc0x",
    "outputId": "f12d62ec-4ef1-42fc-8c74-ac29844bb7c0"
   },
   "outputs": [
    {
     "name": "stdout",
     "output_type": "stream",
     "text": [
      "Cosine similarity matrix:  (32, 32)\n"
     ]
    }
   ],
   "source": [
    "from sklearn.metrics.pairwise import cosine_similarity, euclidean_distances\n",
    "\n",
    "cosine_similarity_matrix  = cosine_similarity(X)\n",
    "\n",
    "print('Cosine similarity matrix: ', cosine_similarity_matrix.shape)"
   ]
  },
  {
   "cell_type": "code",
   "execution_count": 31,
   "metadata": {
    "id": "rCBN1F1dTc0y",
    "outputId": "5e0efd22-3b24-4b85-c4ad-a54ca5635121"
   },
   "outputs": [
    {
     "data": {
      "text/plain": "<Figure size 900x600 with 2 Axes>",
      "image/png": "[encoded data removed]"
     },
     "metadata": {
      "needs_background": "light"
     },
     "output_type": "display_data"
    }
   ],
   "source": [
    "plt.figure(dpi=150)\n",
    "plt.imshow(cosine_similarity_matrix)\n",
    "plt.clim(0,1)\n",
    "plt.colorbar()\n",
    "\n",
    "plt.xticks([0, 8, 16, 24], ['Face', 'Object', 'Place', 'Scrambled'], ha='left')\n",
    "plt.yticks([0, 8, 16, 24], ['Face', 'Object', 'Place', 'Scrambled'], rotation=270)\n",
    "\n",
    "for line in [0, 8, 16, 24]:\n",
    "    plt.axhline(line-0.5, c='w')\n",
    "    plt.axvline(line-0.5, c='w')\n",
    "    \n",
    "plt.show()"
   ]
  },
  {
   "cell_type": "markdown",
   "metadata": {
    "id": "nzK5D8gMTc0y"
   },
   "source": [
    "In this lab, MVPA and RSA were conducted using the multi-voxel patterns of the ventral temporal corex. MVPA and RSA are widely used fMRI analysis methods, so if you want to know more or want to use them for your own research, I recommend you to study them more in depth. "
   ]
  },
  {
   "cell_type": "markdown",
   "metadata": {
    "id": "eT680nyvjqY-"
   },
   "source": [
    "# Recommended reading\n",
    "- https://dartbrains.org/content/Multivariate_Prediction.html\n",
    "- https://dartbrains.org/content/RSA.html"
   ]
  },
  {
   "cell_type": "code",
   "execution_count": null,
   "metadata": {},
   "outputs": [],
   "source": []
  }
 ],
 "metadata": {
  "colab": {
   "collapsed_sections": [],
   "name": "PBM_Lab07.ipynb",
   "provenance": []
  },
  "kernelspec": {
   "display_name": "Python 3",
   "language": "python",
   "name": "python3"
  },
  "language_info": {
   "codemirror_mode": {
    "name": "ipython",
    "version": 3
   },
   "file_extension": ".py",
   "mimetype": "text/x-python",
   "name": "python",
   "nbconvert_exporter": "python",
   "pygments_lexer": "ipython3",
   "version": "3.8.5"
  }
 },
 "nbformat": 4,
 "nbformat_minor": 1
}